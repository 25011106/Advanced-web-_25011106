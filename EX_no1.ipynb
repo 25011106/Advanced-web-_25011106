{
  "nbformat": 4,
  "nbformat_minor": 0,
  "metadata": {
    "colab": {
      "provenance": []
    },
    "kernelspec": {
      "name": "python3",
      "display_name": "Python 3"
    },
    "language_info": {
      "name": "python"
    }
  },
  "cells": [
    {
      "cell_type": "code",
      "execution_count": 4,
      "metadata": {
        "colab": {
          "base_uri": "https://localhost:8080/"
        },
        "id": "0XThOlexdzgj",
        "outputId": "7ce41b3f-8548-4125-b487-16565729bed5"
      },
      "outputs": [
        {
          "output_type": "stream",
          "name": "stdout",
          "text": [
            "['Alex', 'Cloude', 'John', 'Kagetera', 'Peter', 'kagabo', 'university of kigali']\n"
          ]
        }
      ],
      "source": [
        "names =[\"Kagetera\",\"John\",\"Peter\",\"Alex\",\"Cloude\"]\n",
        "names.append(\"kagabo\")\n",
        "names.append(\"university of kigali\")\n",
        "names.sort()\n",
        "print(names)\n",
        "\n",
        "\n"
      ]
    },
    {
      "cell_type": "code",
      "source": [],
      "metadata": {
        "id": "eOB7zM6Qfdd0"
      },
      "execution_count": null,
      "outputs": []
    }
  ]
}