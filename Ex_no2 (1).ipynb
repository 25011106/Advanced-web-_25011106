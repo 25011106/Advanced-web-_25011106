{
  "nbformat": 4,
  "nbformat_minor": 0,
  "metadata": {
    "colab": {
      "provenance": [],
      "name": "Ex no2"
    },
    "kernelspec": {
      "name": "python3",
      "display_name": "Python 3"
    },
    "language_info": {
      "name": "python"
    }
  },
  "cells": [
    {
      "cell_type": "code",
      "source": [
        "\n",
        "prices = {\"Apple\": 1000, \"Banana\": 500, \"Mango\": 1200}\n",
        "for fruit, price in prices.items():\n",
        "    print(f\"The price of {fruit} per kg is {price}.\")\n",
        "total_cost = 0\n",
        "for price in prices.values():\n",
        "    total_cost += price * 2\n",
        "\n",
        "print(f\"The total cost of buying 2 kg of each fruit is: {total_cost}\")\n"
      ],
      "metadata": {
        "id": "eOB7zM6Qfdd0",
        "colab": {
          "base_uri": "https://localhost:8080/"
        },
        "outputId": "6262c180-04da-4c65-942e-5fe5dc57e8b7"
      },
      "execution_count": 2,
      "outputs": [
        {
          "output_type": "stream",
          "name": "stdout",
          "text": [
            "The price of Apple per kg is 1000.\n",
            "The price of Banana per kg is 500.\n",
            "The price of Mango per kg is 1200.\n",
            "The total cost of buying 2 kg of each fruit is: 5400\n"
          ]
        }
      ]
    }
  ]
}