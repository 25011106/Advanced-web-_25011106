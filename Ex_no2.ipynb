{
  "nbformat": 4,
  "nbformat_minor": 0,
  "metadata": {
    "colab": {
      "provenance": [],
      "name": "Ex no2"
    },
    "kernelspec": {
      "name": "python3",
      "display_name": "Python 3"
    },
    "language_info": {
      "name": "python"
    }
  },
  "cells": [
    {
      "cell_type": "code",
      "execution_count": null,
      "metadata": {
        "colab": {
          "base_uri": "https://localhost:8080/"
        },
        "id": "0XThOlexdzgj",
        "outputId": "7ce41b3f-8548-4125-b487-16565729bed5"
      },
      "outputs": [
        {
          "output_type": "stream",
          "name": "stdout",
          "text": [
            "['Alex', 'Cloude', 'John', 'Kagetera', 'Peter', 'kagabo', 'university of kigali']\n"
          ]
        }
      ],
      "source": [
        "names =[\"Kagetera\",\"John\",\"Peter\",\"Alex\",\"Cloude\"]\n",
        "names.append(\"kagabo\")\n",
        "names.append(\"university of kigali\")\n",
        "names.sort()\n",
        "print(names)\n",
        "\n",
        "\n"
      ]
    },
    {
      "cell_type": "code",
      "source": [
        "\n",
        "prices = {\"Apple\": 1000, \"Banana\": 500, \"Mango\": 1200}\n",
        "for fruit, price in prices.items():\n",
        "    print(f\"The price of {fruit} per kg is {price}.\")\n",
        "total_cost = 0\n",
        "for price in prices.values():\n",
        "    total_cost += price * 2\n",
        "\n",
        "print(f\"The total cost of buying 2 kg of each fruit is: {total_cost}\")\n"
      ],
      "metadata": {
        "id": "eOB7zM6Qfdd0",
        "colab": {
          "base_uri": "https://localhost:8080/"
        },
        "outputId": "bbc632db-d3cc-4868-c911-d8e1ffa65535"
      },
      "execution_count": 1,
      "outputs": [
        {
          "output_type": "stream",
          "name": "stdout",
          "text": [
            "The price of Apple per kg is 1000.\n",
            "The price of Banana per kg is 500.\n",
            "The price of Mango per kg is 1200.\n",
            "The total cost of buying 2 kg of each fruit is: 5400\n"
          ]
        }
      ]
    }
  ]
}